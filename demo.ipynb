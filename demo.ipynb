{
 "cells": [
  {
   "cell_type": "markdown",
   "metadata": {},
   "source": [
    "# Dependencies"
   ]
  },
  {
   "cell_type": "code",
   "execution_count": null,
   "metadata": {},
   "outputs": [],
   "source": [
    "from sklearn.datasets import load_iris\n",
    "from sklearn.ensemble import RandomForestClassifier\n",
    "import joblib\n",
    "import pandas as pd\n",
    "import requests"
   ]
  },
  {
   "cell_type": "markdown",
   "metadata": {},
   "source": [
    "# Model"
   ]
  },
  {
   "cell_type": "code",
   "execution_count": null,
   "metadata": {},
   "outputs": [],
   "source": [
    "\"\"\"\n",
    "X, y = load_iris(return_X_y=True)\n",
    "clf = RandomForestClassifier()\n",
    "clf.fit(X, y)\n",
    "\n",
    "with open(\"app/iris_model.pkl\", \"wb\") as f:\n",
    "    joblib.dump(clf, f)\n",
    "\"\"\"\n",
    "\n",
    "name_of_index = {\n",
    "    0 : 'Iris-setosa',\n",
    "    1 : 'Iris-versicolor',\n",
    "    2 : 'Iris-virginica'\n",
    "}"
   ]
  },
  {
   "cell_type": "markdown",
   "metadata": {},
   "source": [
    "# Demo"
   ]
  },
  {
   "cell_type": "code",
   "execution_count": null,
   "metadata": {},
   "outputs": [],
   "source": [
    "# docker build -t dockerdemo . && docker run -p 5050:5050 dockerdemo"
   ]
  },
  {
   "cell_type": "code",
   "execution_count": null,
   "metadata": {},
   "outputs": [],
   "source": [
    "# Load CSV\n",
    "df = pd.read_csv('iris_dataset/iris.csv')  # make sure this file is in your notebook's working dir\n"
   ]
  },
  {
   "cell_type": "code",
   "execution_count": null,
   "metadata": {},
   "outputs": [],
   "source": [
    "# Preview CSV\n",
    "df.head()"
   ]
  },
  {
   "cell_type": "code",
   "execution_count": null,
   "metadata": {},
   "outputs": [],
   "source": [
    "# Ensure app is running\n",
    "response_init = requests.get('http://localhost:5050/init')\n",
    "\n",
    "print(response_init.text)"
   ]
  },
  {
   "cell_type": "code",
   "execution_count": null,
   "metadata": {},
   "outputs": [],
   "source": [
    "# Sample a data point for inference\n",
    "sample = df.sample(1).iloc[0].tolist()\n",
    "\n",
    "\n",
    "# Extract features\n",
    "features = [float(x) for x in sample[1:-1]]\n",
    "\n",
    "# Classify features\n",
    "response_pred = requests.post(\n",
    "    'http://localhost:5050/predict',\n",
    "    json={'features': features}\n",
    ")\n",
    "\n",
    "# Document inference call\n",
    "print(f\"Features   : {features}\")\n",
    "print(f\"Label      : {sample[-1]}\")\n",
    "print(f\"Prediction : {name_of_index[response_pred.json()['prediction']]}\")"
   ]
  }
 ],
 "metadata": {
  "kernelspec": {
   "display_name": "venv",
   "language": "python",
   "name": "python3"
  },
  "language_info": {
   "codemirror_mode": {
    "name": "ipython",
    "version": 3
   },
   "file_extension": ".py",
   "mimetype": "text/x-python",
   "name": "python",
   "nbconvert_exporter": "python",
   "pygments_lexer": "ipython3",
   "version": "3.10.16"
  }
 },
 "nbformat": 4,
 "nbformat_minor": 2
}
